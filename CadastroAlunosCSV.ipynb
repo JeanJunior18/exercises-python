{
 "cells": [
  {
   "cell_type": "code",
   "execution_count": 17,
   "metadata": {},
   "outputs": [
    {
     "name": "stdin",
     "output_type": "stream",
     "text": [
      "Insira o número de alunos 3\n"
     ]
    },
    {
     "name": "stdout",
     "output_type": "stream",
     "text": [
      "Recebendo dados do 1° aluno, por favor leia com atenção.\n"
     ]
    },
    {
     "name": "stdin",
     "output_type": "stream",
     "text": [
      "Nome do aluno:  Jean Charles\n",
      "Idade de Jean Charles 18\n",
      "Informe a nota da 1° rova:  8\n",
      "Informe a nota da 2° rova:  10\n"
     ]
    },
    {
     "name": "stdout",
     "output_type": "stream",
     "text": [
      "Recebendo dados do 2° aluno, por favor leia com atenção.\n"
     ]
    },
    {
     "name": "stdin",
     "output_type": "stream",
     "text": [
      "Nome do aluno:  Junior Paiva\n",
      "Idade de Junior Paiva 9\n",
      "Informe a nota da 1° rova:  9\n",
      "Informe a nota da 2° rova:  7\n"
     ]
    },
    {
     "name": "stdout",
     "output_type": "stream",
     "text": [
      "Recebendo dados do 3° aluno, por favor leia com atenção.\n"
     ]
    },
    {
     "name": "stdin",
     "output_type": "stream",
     "text": [
      "Nome do aluno:  José Lucas\n",
      "Idade de José Lucas 26\n",
      "Informe a nota da 1° rova:  6\n",
      "Informe a nota da 2° rova:  9\n"
     ]
    },
    {
     "name": "stdout",
     "output_type": "stream",
     "text": [
      "{'Nome': ['Jean Charles', 'Junior Paiva', 'José Lucas'], 'Idade': [18, 9, 26], 'Média': [9.0, 8.0, 7.5]}\n"
     ]
    }
   ],
   "source": [
    "dados = {'Nome': None,'Idade': None, 'Média': None}\n",
    "alunos = []\n",
    "idade = []\n",
    "media = []\n",
    "nalunos = int(input('Insira o número de alunos'))\n",
    "c = 1\n",
    "\n",
    "while(c<=nalunos):\n",
    "    print('Recebendo dados do {}° aluno, por favor leia com atenção.'.format(c))\n",
    "    aluno = input('Nome do aluno: ')\n",
    "    age = int(input('Idade de '+ aluno))\n",
    "    n1 = float(input('Informe a nota da 1° rova: '))\n",
    "    n2 = float(input('Informe a nota da 2° rova: '))\n",
    "    med = (n1+n2)/2\n",
    "    alunos.append(aluno)\n",
    "    dados['Nome'] = alunos\n",
    "    idade.append(age)\n",
    "    dados['Idade'] = idade\n",
    "    media.append(med)\n",
    "    dados['Média'] = media\n",
    "    c+=1\n",
    "print(dados)"
   ]
  },
  {
   "cell_type": "code",
   "execution_count": 65,
   "metadata": {},
   "outputs": [
    {
     "name": "stdin",
     "output_type": "stream",
     "text": [
      "Digite o nome do arquio para salvar os dados:  teste4\n"
     ]
    }
   ],
   "source": [
    "fileName = input('Digite o nome do arquio para salvar os dados: ')\n",
    "fileName = fileName+'.csv'\n",
    "import csv\n",
    "with open(fileName,'w') as arq:\n",
    "    learn = csv.writer(arq)\n",
    "    learn.writerow(dados.keys())\n",
    "    for line in dados.values():\n",
    "        learn.writerow(line)\n",
    "        \n",
    "with open(fileName,'r') as arq:\n",
    "    ler = csv.reader(arq)\n",
    "    ler = list(ler)"
   ]
  },
  {
   "cell_type": "code",
   "execution_count": null,
   "metadata": {},
   "outputs": [],
   "source": []
  }
 ],
 "metadata": {
  "kernelspec": {
   "display_name": "Python 3",
   "language": "python",
   "name": "python3"
  },
  "language_info": {
   "codemirror_mode": {
    "name": "ipython",
    "version": 3
   },
   "file_extension": ".py",
   "mimetype": "text/x-python",
   "name": "python",
   "nbconvert_exporter": "python",
   "pygments_lexer": "ipython3",
   "version": "3.7.4"
  }
 },
 "nbformat": 4,
 "nbformat_minor": 4
}
