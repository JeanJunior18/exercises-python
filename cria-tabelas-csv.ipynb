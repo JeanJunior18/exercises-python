{
 "cells": [
  {
   "cell_type": "code",
   "execution_count": 57,
   "metadata": {},
   "outputs": [
    {
     "name": "stdin",
     "output_type": "stream",
     "text": [
      "Insira o nome do arquivo:  Salários\n"
     ]
    }
   ],
   "source": [
    "file_name = input('Insira o nome do arquivo: ')\n",
    "file_name  = file_name+'.csv'\n",
    "with open(file_name,'w'):\n",
    "    pass"
   ]
  },
  {
   "cell_type": "code",
   "execution_count": 58,
   "metadata": {},
   "outputs": [
    {
     "name": "stdin",
     "output_type": "stream",
     "text": [
      "Insira o número de colunas:  3\n"
     ]
    }
   ],
   "source": [
    "col = int(input('Insira o número de colunas: '))\n",
    "c = 0\n",
    "tit = []"
   ]
  },
  {
   "cell_type": "code",
   "execution_count": 59,
   "metadata": {},
   "outputs": [
    {
     "name": "stdin",
     "output_type": "stream",
     "text": [
      "Insira o título da 1° coluna:  Funcionário\n",
      "Insira o título da 2° coluna:  Cargo\n",
      "Insira o título da 3° coluna:  Salário\n"
     ]
    }
   ],
   "source": [
    "while(c<col):\n",
    "    t = input('Insira o título da {}° coluna: '.format(c+1))\n",
    "    tit.append(t)\n",
    "    c+=1"
   ]
  },
  {
   "cell_type": "code",
   "execution_count": 60,
   "metadata": {},
   "outputs": [],
   "source": [
    "import csv\n",
    "with open(file_name,'w') as wrt:\n",
    "    writer = csv.writer(wrt)\n",
    "    writer.writerow(tit)\n"
   ]
  },
  {
   "cell_type": "code",
   "execution_count": 61,
   "metadata": {},
   "outputs": [
    {
     "name": "stdin",
     "output_type": "stream",
     "text": [
      "Insira o número de linhas:  3\n"
     ]
    }
   ],
   "source": [
    "try:\n",
    "    lin = int(input('Insira o número de linhas: '))\n",
    "except ValueError:\n",
    "    print('O valor não pode ser vazio e nem texto, tente novamente')\n",
    "    lin = int(input('Insira o número de linhas: '))\n",
    "\n",
    "c = 0\n",
    "i = 0\n",
    "rows = []\n",
    "row = []"
   ]
  },
  {
   "cell_type": "code",
   "execution_count": 62,
   "metadata": {},
   "outputs": [
    {
     "name": "stdin",
     "output_type": "stream",
     "text": [
      "1°Linha --- Funcionário:  Euclides da Cunha\n",
      "1°Linha --- Cargo:  Contabilidade\n",
      "1°Linha --- Salário:  1300\n",
      "2°Linha --- Funcionário:  Francisco da Silva\n",
      "2°Linha --- Cargo:  Gerente\n",
      "2°Linha --- Salário:  2000\n",
      "3°Linha --- Funcionário:  Evellin Costa\n",
      "3°Linha --- Cargo:  Marketing\n",
      "3°Linha --- Salário:  1300\n"
     ]
    }
   ],
   "source": [
    "while(i<lin):\n",
    "    c=0\n",
    "    row=[]\n",
    "    while(c<col):\n",
    "        t = input('{}°Linha --- {}: '.format(i+1,tit[c]))\n",
    "        row.append(t)\n",
    "        c+=1\n",
    "    with open(file_name,'a') as fl:\n",
    "        writer = csv.writer(fl)\n",
    "        writer.writerow(row)\n",
    "    i+=1"
   ]
  }
 ],
 "metadata": {
  "kernelspec": {
   "display_name": "Python 3",
   "language": "python",
   "name": "python3"
  },
  "language_info": {
   "codemirror_mode": {
    "name": "ipython",
    "version": 3
   },
   "file_extension": ".py",
   "mimetype": "text/x-python",
   "name": "python",
   "nbconvert_exporter": "python",
   "pygments_lexer": "ipython3",
   "version": "3.7.4"
  }
 },
 "nbformat": 4,
 "nbformat_minor": 4
}
